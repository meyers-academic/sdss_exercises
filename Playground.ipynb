{
 "cells": [
  {
   "cell_type": "code",
   "execution_count": 1,
   "metadata": {},
   "outputs": [],
   "source": [
    "import numpy as np\n",
    "import matplotlib.pyplot as plt\n",
    "%matplotlib inline\n",
    "from astropy.io import fits\n",
    "import glob"
   ]
  },
  {
   "cell_type": "markdown",
   "metadata": {},
   "source": [
    "# no fancy argparse, just checking data filetypes"
   ]
  },
  {
   "cell_type": "code",
   "execution_count": 2,
   "metadata": {},
   "outputs": [
    {
     "name": "stdout",
     "output_type": "stream",
     "text": [
      "data_files/spec-10000-57346-0002.fits\n",
      "number of HDUs = 4\n",
      "BITPIX type of HDU0 = 8\n",
      "BITPIX type of HDU1 = 8\n",
      "BITPIX type of HDU2 = 8\n",
      "BITPIX type of HDU3 = 8\n",
      "\n",
      "\n",
      "data_files/spec-10000-57346-0003.fits\n",
      "number of HDUs = 4\n",
      "BITPIX type of HDU0 = 8\n",
      "BITPIX type of HDU1 = 8\n",
      "BITPIX type of HDU2 = 8\n",
      "BITPIX type of HDU3 = 8\n",
      "\n",
      "\n",
      "data_files/spec-10000-57346-0004.fits\n",
      "number of HDUs = 4\n",
      "BITPIX type of HDU0 = 8\n",
      "BITPIX type of HDU1 = 8\n",
      "BITPIX type of HDU2 = 8\n",
      "BITPIX type of HDU3 = 8\n",
      "\n",
      "\n",
      "data_files/spec-10000-57346-0005.fits\n",
      "number of HDUs = 4\n",
      "BITPIX type of HDU0 = 8\n",
      "BITPIX type of HDU1 = 8\n",
      "BITPIX type of HDU2 = 8\n",
      "BITPIX type of HDU3 = 8\n",
      "\n",
      "\n",
      "data_files/spec-10000-57346-0006.fits\n",
      "number of HDUs = 4\n",
      "BITPIX type of HDU0 = 8\n",
      "BITPIX type of HDU1 = 8\n",
      "BITPIX type of HDU2 = 8\n",
      "BITPIX type of HDU3 = 8\n",
      "\n",
      "\n",
      "data_files/spec-10000-57346-0007.fits\n",
      "number of HDUs = 4\n",
      "BITPIX type of HDU0 = 8\n",
      "BITPIX type of HDU1 = 8\n",
      "BITPIX type of HDU2 = 8\n",
      "BITPIX type of HDU3 = 8\n",
      "\n",
      "\n",
      "data_files/spec-10000-57346-0008.fits\n",
      "number of HDUs = 4\n",
      "BITPIX type of HDU0 = 8\n",
      "BITPIX type of HDU1 = 8\n",
      "BITPIX type of HDU2 = 8\n",
      "BITPIX type of HDU3 = 8\n",
      "\n",
      "\n",
      "data_files/spec-10000-57346-0009.fits\n",
      "number of HDUs = 4\n",
      "BITPIX type of HDU0 = 8\n",
      "BITPIX type of HDU1 = 8\n",
      "BITPIX type of HDU2 = 8\n",
      "BITPIX type of HDU3 = 8\n",
      "\n",
      "\n",
      "data_files/spec-10000-57346-0010.fits\n",
      "number of HDUs = 4\n",
      "BITPIX type of HDU0 = 8\n",
      "BITPIX type of HDU1 = 8\n",
      "BITPIX type of HDU2 = 8\n",
      "BITPIX type of HDU3 = 8\n",
      "\n",
      "\n",
      "data_files/spec-10000-57346-0019.fits\n",
      "number of HDUs = 4\n",
      "BITPIX type of HDU0 = 8\n",
      "BITPIX type of HDU1 = 8\n",
      "BITPIX type of HDU2 = 8\n",
      "BITPIX type of HDU3 = 8\n",
      "\n",
      "\n",
      "data_files/spec-10000-57346-0020.fits\n",
      "number of HDUs = 4\n",
      "BITPIX type of HDU0 = 8\n",
      "BITPIX type of HDU1 = 8\n",
      "BITPIX type of HDU2 = 8\n",
      "BITPIX type of HDU3 = 8\n",
      "\n",
      "\n",
      "data_files/spec-10000-57346-0021.fits\n",
      "number of HDUs = 4\n",
      "BITPIX type of HDU0 = 8\n",
      "BITPIX type of HDU1 = 8\n",
      "BITPIX type of HDU2 = 8\n",
      "BITPIX type of HDU3 = 8\n",
      "\n",
      "\n",
      "data_files/spec-4055-55359-0001.fits\n",
      "number of HDUs = 4\n",
      "BITPIX type of HDU0 = 8\n",
      "BITPIX type of HDU1 = 8\n",
      "BITPIX type of HDU2 = 8\n",
      "BITPIX type of HDU3 = 8\n",
      "\n",
      "\n",
      "data_files/spec-4055-55359-0006.fits\n",
      "number of HDUs = 4\n",
      "BITPIX type of HDU0 = 8\n",
      "BITPIX type of HDU1 = 8\n",
      "BITPIX type of HDU2 = 8\n",
      "BITPIX type of HDU3 = 8\n",
      "\n",
      "\n",
      "data_files/spec-4055-55359-0010.fits\n",
      "number of HDUs = 4\n",
      "BITPIX type of HDU0 = 8\n",
      "BITPIX type of HDU1 = 8\n",
      "BITPIX type of HDU2 = 8\n",
      "BITPIX type of HDU3 = 8\n",
      "\n",
      "\n",
      "data_files/spec-4055-55359-0012.fits\n",
      "number of HDUs = 4\n",
      "BITPIX type of HDU0 = 8\n",
      "BITPIX type of HDU1 = 8\n",
      "BITPIX type of HDU2 = 8\n",
      "BITPIX type of HDU3 = 8\n",
      "\n",
      "\n",
      "data_files/spec-6055-56102-0008.fits\n",
      "number of HDUs = 4\n",
      "BITPIX type of HDU0 = 8\n",
      "BITPIX type of HDU1 = 8\n",
      "BITPIX type of HDU2 = 8\n",
      "BITPIX type of HDU3 = 8\n",
      "\n",
      "\n"
     ]
    }
   ],
   "source": [
    "for filename in glob.glob('data_files/spec*'):\n",
    "    print(filename)\n",
    "    hdu_list = fits.open(filename)\n",
    "    print('number of HDUs = {0}'.format(len(hdu_list)))\n",
    "    for i in range(len(hdu_list)):\n",
    "        hdu1 = hdu_list[i] # FITS HDU counting is from 1\n",
    "        print('BITPIX type of HDU{0} = {1}'.format(i, hdu1.header['BITPIX']))\n",
    "    print('\\n')"
   ]
  },
  {
   "cell_type": "code",
   "execution_count": 34,
   "metadata": {},
   "outputs": [],
   "source": [
    "filename = 'data_files/spec-10000-57346-0010.fits'\n",
    "hdu_list = fits.open(filename)\n",
    "hdu1 = hdu_list[0]"
   ]
  },
  {
   "cell_type": "code",
   "execution_count": 35,
   "metadata": {},
   "outputs": [
    {
     "data": {
      "text/plain": [
       "FITS_rec([(13.18583  , 3.5534, 0.05891138, 0, 0, 1.3109745,  4.566689 , 0.97481877),\n",
       "          (10.495148 , 3.5535, 0.        , 0, 0, 1.3110044,  4.356147 , 0.9659039 ),\n",
       "          ( 7.8066   , 3.5536, 0.06044558, 0, 0, 1.3110709,  4.0207353, 0.9706368 ),\n",
       "          ...,\n",
       "          ( 3.8113914, 4.0137, 0.10194425, 0, 0, 0.8125067,  2.0402873, 0.35727683),\n",
       "          ( 5.4472656, 4.0138, 0.1353992 , 0, 0, 0.8127774, -0.6116859, 0.35514882),\n",
       "          ( 7.0535626, 4.0139, 0.11568385, 0, 0, 0.8132011,  1.0849937, 0.36003318)],\n",
       "         dtype=(numpy.record, [('flux', '>f4'), ('loglam', '>f4'), ('ivar', '>f4'), ('and_mask', '>i4'), ('or_mask', '>i4'), ('wdisp', '>f4'), ('sky', '>f4'), ('model', '>f4')]))"
      ]
     },
     "execution_count": 35,
     "metadata": {},
     "output_type": "execute_result"
    }
   ],
   "source": [
    "hdu_list[1].data"
   ]
  },
  {
   "cell_type": "code",
   "execution_count": 36,
   "metadata": {},
   "outputs": [
    {
     "data": {
      "text/plain": [
       "XTENSION= 'BINTABLE'           / binary table extension                         \n",
       "BITPIX  =                    8 / array data type                                \n",
       "NAXIS   =                    2 / number of array dimensions                     \n",
       "NAXIS1  =                   32 / length of dimension 1                          \n",
       "NAXIS2  =                 4606 / length of dimension 2                          \n",
       "PCOUNT  =                    0 / number of group parameters                     \n",
       "GCOUNT  =                    1 / number of groups                               \n",
       "TFIELDS =                    8 / number of table fields                         \n",
       "TTYPE1  = 'flux    '                                                            \n",
       "TFORM1  = 'E       '                                                            \n",
       "TTYPE2  = 'loglam  '                                                            \n",
       "TFORM2  = 'E       '                                                            \n",
       "TTYPE3  = 'ivar    '                                                            \n",
       "TFORM3  = 'E       '                                                            \n",
       "TTYPE4  = 'and_mask'                                                            \n",
       "TFORM4  = 'J       '                                                            \n",
       "TTYPE5  = 'or_mask '                                                            \n",
       "TFORM5  = 'J       '                                                            \n",
       "TTYPE6  = 'wdisp   '                                                            \n",
       "TFORM6  = 'E       '                                                            \n",
       "TTYPE7  = 'sky     '                                                            \n",
       "TFORM7  = 'E       '                                                            \n",
       "TTYPE8  = 'model   '                                                            \n",
       "TFORM8  = 'E       '                                                            \n",
       "EXTNAME = 'COADD   '           / extension name                                 \n",
       "COMMENT Coadded spectrum                                                        "
      ]
     },
     "execution_count": 36,
     "metadata": {},
     "output_type": "execute_result"
    }
   ],
   "source": [
    "hdu_list[1].header"
   ]
  },
  {
   "cell_type": "code",
   "execution_count": 37,
   "metadata": {},
   "outputs": [
    {
     "data": {
      "text/plain": [
       "dtype((numpy.record, [('flux', '>f4'), ('loglam', '>f4'), ('ivar', '>f4'), ('and_mask', '>i4'), ('or_mask', '>i4'), ('wdisp', '>f4'), ('sky', '>f4'), ('model', '>f4')]))"
      ]
     },
     "execution_count": 37,
     "metadata": {},
     "output_type": "execute_result"
    }
   ],
   "source": [
    "hdu_list[1].data.dtype"
   ]
  },
  {
   "cell_type": "code",
   "execution_count": 39,
   "metadata": {},
   "outputs": [
    {
     "data": {
      "text/plain": [
       "[<matplotlib.lines.Line2D at 0x821c566a0>]"
      ]
     },
     "execution_count": 39,
     "metadata": {},
     "output_type": "execute_result"
    },
    {
     "data": {
      "image/png": "[encoded data removed]",
      "text/plain": [
       "<Figure size 432x288 with 1 Axes>"
      ]
     },
     "metadata": {
      "needs_background": "light"
     },
     "output_type": "display_data"
    }
   ],
   "source": [
    "plt.plot(hdu_list[1].data['loglam'],hdu_list[1].data['flux'])"
   ]
  },
  {
   "cell_type": "code",
   "execution_count": null,
   "metadata": {},
   "outputs": [],
   "source": [
    " "
   ]
  }
 ],
 "metadata": {
  "kernelspec": {
   "display_name": "py35",
   "language": "python",
   "name": "py35"
  },
  "language_info": {
   "codemirror_mode": {
    "name": "ipython",
    "version": 3
   },
   "file_extension": ".py",
   "mimetype": "text/x-python",
   "name": "python",
   "nbconvert_exporter": "python",
   "pygments_lexer": "ipython3",
   "version": "3.5.6"
  }
 },
 "nbformat": 4,
 "nbformat_minor": 2
}
